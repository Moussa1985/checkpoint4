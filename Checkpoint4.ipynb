{
 "cells": [
  {
   "cell_type": "code",
   "execution_count": 15,
   "id": "ce3c9084",
   "metadata": {},
   "outputs": [
    {
     "data": {
      "text/plain": [
       "30"
      ]
     },
     "execution_count": 15,
     "metadata": {},
     "output_type": "execute_result"
    }
   ],
   "source": [
    "#Q1\n",
    "def max(a,b,c):\n",
    "    if a>=b and a>=c:\n",
    "        return a\n",
    "    elif b>=a and b>=c:\n",
    "        return b\n",
    "    else: \n",
    "        return c\n",
    "max(30,10,2)"
   ]
  },
  {
   "cell_type": "code",
   "execution_count": 18,
   "id": "de07255d",
   "metadata": {},
   "outputs": [
    {
     "data": {
      "text/plain": [
       "(12, 8)"
      ]
     },
     "execution_count": 18,
     "metadata": {},
     "output_type": "execute_result"
    }
   ],
   "source": [
    "#Q2\n",
    "def calc(a,b):\n",
    "    ad=a+b\n",
    "    so=a-b\n",
    "    return ad,so\n",
    "calc(10,2)\n",
    "\n",
    "        "
   ]
  },
  {
   "cell_type": "code",
   "execution_count": 70,
   "id": "6c451d52",
   "metadata": {},
   "outputs": [
    {
     "data": {
      "text/plain": [
       "(13, 15)"
      ]
     },
     "execution_count": 70,
     "metadata": {},
     "output_type": "execute_result"
    }
   ],
   "source": [
    "#Q3\n",
    "def sumlist(a):\n",
    "    t=0\n",
    "    for i in a:\n",
    "        t=t+i\n",
    "    return t\n",
    "\n",
    "def multilist(b):\n",
    "    m=1\n",
    "    for l in b:\n",
    "        m=m*l\n",
    "    return m\n",
    "def f(c):\n",
    "    e=[]\n",
    "    o=[]\n",
    "    for j in range(len(c)):\n",
    "        if j%2==0:\n",
    "            e.append(c[j])\n",
    "        #elif c.index(j)%2!=0:\n",
    "        else:\n",
    "            o.append(c[j])\n",
    "    return sumlist(e),multilist(o)\n",
    "f([2,5,6,3,5])\n",
    "\n",
    "\n",
    "    \n",
    "    "
   ]
  },
  {
   "cell_type": "code",
   "execution_count": 73,
   "id": "c5893bee",
   "metadata": {},
   "outputs": [
    {
     "name": "stdout",
     "output_type": "stream",
     "text": [
      "green-black-white-yellow\n",
      "black-green-white-yellow\n"
     ]
    }
   ],
   "source": [
    "#Q4\n",
    "i=[n for n in input().split('-')]\n",
    "i.sort()\n",
    "print('-'.join(i))\n"
   ]
  },
  {
   "cell_type": "code",
   "execution_count": null,
   "id": "6a0ebe3b",
   "metadata": {},
   "outputs": [],
   "source": [
    "#Q4'\n",
    "l=[]\n",
    "n=int(input(\"Entrer la langeur de votre list:\"))\n",
    "for i in range(n):\n",
    "    i=input(\"Entrer les elements de votre list:\")\n",
    "    l.append(i)\n",
    "l.sort()\n",
    "print(l)\n"
   ]
  },
  {
   "cell_type": "code",
   "execution_count": 14,
   "id": "9dacb6e7",
   "metadata": {},
   "outputs": [
    {
     "name": "stdout",
     "output_type": "stream",
     "text": [
      "100,200,300\n"
     ]
    },
    {
     "data": {
      "text/plain": [
       "[18, 26, 32]"
      ]
     },
     "execution_count": 14,
     "metadata": {},
     "output_type": "execute_result"
    }
   ],
   "source": [
    "#Q5\n",
    "import math\n",
    "Q=lambda c,h,d:round(math.sqrt((2*c*d)/h))\n",
    "numbers=input()\n",
    "D=[Q(50,30,int(d)) for d in numbers.split(',')]\n",
    "\n",
    "D\n"
   ]
  },
  {
   "cell_type": "code",
   "execution_count": null,
   "id": "dd678785",
   "metadata": {},
   "outputs": [],
   "source": []
  },
  {
   "cell_type": "code",
   "execution_count": null,
   "id": "4e3d864e",
   "metadata": {},
   "outputs": [],
   "source": []
  },
  {
   "cell_type": "code",
   "execution_count": null,
   "id": "322a36d2",
   "metadata": {},
   "outputs": [],
   "source": []
  },
  {
   "cell_type": "code",
   "execution_count": null,
   "id": "3d7ff16e",
   "metadata": {},
   "outputs": [],
   "source": []
  },
  {
   "cell_type": "code",
   "execution_count": null,
   "id": "471bbd16",
   "metadata": {},
   "outputs": [],
   "source": []
  }
 ],
 "metadata": {
  "kernelspec": {
   "display_name": "Python 3",
   "language": "python",
   "name": "python3"
  },
  "language_info": {
   "codemirror_mode": {
    "name": "ipython",
    "version": 3
   },
   "file_extension": ".py",
   "mimetype": "text/x-python",
   "name": "python",
   "nbconvert_exporter": "python",
   "pygments_lexer": "ipython3",
   "version": "3.8.8"
  }
 },
 "nbformat": 4,
 "nbformat_minor": 5
}
